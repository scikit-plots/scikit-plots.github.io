{
 "cells": [
  {
   "cell_type": "markdown",
   "metadata": {},
   "source": [
    "\n",
    "# A short Python script\n",
    "\n",
    "This demonstrates an example ``.py`` file that is not executed when gallery is\n",
    "generated (see `build_pattern`) but nevertheless gets included as an\n",
    "example. Note that no output is capture as this file is not executed.\n"
   ]
  },
  {
   "cell_type": "code",
   "execution_count": 1,
   "metadata": {
    "collapsed": false,
    "execution": {
     "iopub.execute_input": "2024-08-29T18:03:04.040144Z",
     "iopub.status.busy": "2024-08-29T18:03:04.038729Z",
     "iopub.status.idle": "2024-08-29T18:03:04.053841Z",
     "shell.execute_reply": "2024-08-29T18:03:04.052500Z"
    }
   },
   "outputs": [
    {
     "name": "stdout",
     "output_type": "stream",
     "text": [
      "[0, 1, 2, 3, 4, 5, 6, 7, 8, 9]\n"
     ]
    }
   ],
   "source": [
    "# Code source: Óscar Nájera\n",
    "# License: BSD 3 clause\n",
    "print([i for i in range(10)])"
   ]
  }
 ],
 "metadata": {
  "kernelspec": {
   "display_name": "Python 3",
   "language": "python",
   "name": "python3"
  },
  "language_info": {
   "codemirror_mode": {
    "name": "ipython",
    "version": 3
   },
   "file_extension": ".py",
   "mimetype": "text/x-python",
   "name": "python",
   "nbconvert_exporter": "python",
   "pygments_lexer": "ipython3",
   "version": "3.11.6"
  }
 },
 "nbformat": 4,
 "nbformat_minor": 0
}
