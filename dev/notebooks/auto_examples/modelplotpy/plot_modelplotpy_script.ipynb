{
  "cells": [
    {
      "cell_type": "markdown",
      "metadata": {},
      "source": [
        "\n# Introduction to modelplotpy\n\n.. currentmodule:: scikitplot\n\nTo install the latest version (with pip)::\n\n    >>> pip install --upgrade scikit-plots\n\nThis exercise is used in the `marketing_analytics` part of the\n`modelplotpy` section.\n\n.. rubric:: References\n\n* [1] https://modelplot.github.io/intro_modelplotpy.html\n\nA tutorial exercise example: Predictive models from sklearn\non the Bank Marketing Data Set\n\nThis example is based on a publicly available dataset, called the Bank Marketing Data Set.\nIt is one of the most popular datasets which is made available on the\n[UCI Machine Learning Repository](https://archive.ics.uci.edu/dataset/222/bank+marketing).\n\nThe data set comes from a Portugese bank and deals with a frequently-posed marketing question:\nwhether a customer did or did not acquire a term deposit, a financial product.\nThere are 4 datasets available and the bank-additional-full.csv is the one we use.\nIt contains the information of 41.188 customers and 21 columns of information.\n\nTo illustrate how to use modelplotpy, let's say that we work for this bank\nand our marketing colleagues have asked us to help to select the customers\nthat are most likely to respond to a term deposit offer. For that purpose,\nwe will develop a predictive model and create the plots to discuss the results\nwith our marketing colleagues. Since we want to show you how to build the plots,\nnot how to build a perfect model, we'll use six of these columns in our example.\n\nHere's a short description on the data we use:\n\n- ``y``: has the client subscribed a term deposit?\n- ``duration``: last contact duration, in seconds (numeric)\n- ``campaign``: number of contacts performed during this campaign and for this client\n- ``pdays``: number of days that passed by after the client was last contacted from a previous campaign\n- ``previous``: number of contacts performed before this campaign and for this client (numeric)\n- ``euribor3m``: euribor 3 month rate\n\nLet's load the data and have a quick look at it:\n"
      ]
    },
    {
      "cell_type": "code",
      "execution_count": null,
      "metadata": {
        "collapsed": false
      },
      "outputs": [],
      "source": [
        "# Authors: The scikit-plots developers\n# SPDX-License-Identifier: BSD-3-Clause"
      ]
    },
    {
      "cell_type": "markdown",
      "metadata": {},
      "source": [
        "## Loading the dataset\n\n"
      ]
    },
    {
      "cell_type": "code",
      "execution_count": null,
      "metadata": {
        "collapsed": false
      },
      "outputs": [],
      "source": [
        "import io\nimport os\nimport zipfile\nimport requests\nimport numpy as np; np.random.seed(0)\nimport pandas as pd\n\nimport warnings\nwarnings.filterwarnings('ignore')\n\n#r = requests.get(\"https://archive.ics.uci.edu/ml/machine-learning-databases/00222/bank-additional.zip\")\n# we encountered that the source at uci.edu is not always available,\n# therefore we made a copy to our repos.\nr = requests.get('https://modelplot.github.io/img/bank-additional.zip')\nz = zipfile.ZipFile(io.BytesIO(r.content))\n# You can change the path, currently the data is written to the working directory\npath = os.getcwd()\nz.extractall(path)\nbank = pd.read_csv(path + \"/bank-additional/bank-additional-full.csv\", sep = ';')\n\n# select the 6 columns\nbank = bank[['y', 'duration', 'campaign', 'pdays', 'previous', 'euribor3m']]\n# rename target class value 'yes' for better interpretation\nbank.y[bank.y == 'yes'] = 'term deposit'\n\n# dimensions of the data\nprint(bank.shape)\n\n# show the first rows of the dataset\nprint(bank.head())"
      ]
    },
    {
      "cell_type": "markdown",
      "metadata": {},
      "source": [
        "## Train models on the bank dataset\nOn this data, we've applied some predictive modeling techniques from the sklearn module.\nThis well known module is a wrapper for many predictive modeling techniques,\nsuch as logistic regression, random forest and many, many others.\nLets train a few models to evaluate with our plots.\n\n"
      ]
    },
    {
      "cell_type": "code",
      "execution_count": null,
      "metadata": {
        "collapsed": false
      },
      "outputs": [],
      "source": [
        "# to create predictive models\nfrom sklearn.model_selection import train_test_split\nfrom sklearn.ensemble import RandomForestClassifier\nfrom sklearn.linear_model import LogisticRegression\n\n# define target vector y\ny = bank.y\n# define feature matrix X\nX = bank.drop('y', axis = 1)\n\n# Create the necessary datasets to build models\nX_train, X_test, y_train, y_test = train_test_split(X, y, test_size = 0.3, random_state = 2018)\n\n# Instantiate a few classification models\nclf_rf = RandomForestClassifier().fit(X_train, y_train)\nclf_mult = LogisticRegression(multi_class='multinomial', solver='newton-cg').fit(X_train, y_train)"
      ]
    },
    {
      "cell_type": "markdown",
      "metadata": {},
      "source": [
        "## Plotting partial dependence for two features\nFor now, we focus on explaining to our marketing colleagues how good our predictive model\ncan help them select customers for their term deposit campaign.\n\n"
      ]
    },
    {
      "cell_type": "code",
      "execution_count": null,
      "metadata": {
        "collapsed": false
      },
      "outputs": [],
      "source": [
        "import scikitplot.modelplotpy as mp\nobj = mp.modelplotpy(\n    feature_data   = [X_train, X_test],\n    label_data     = [y_train, y_test],\n    dataset_labels = ['train_data', 'test_data'],\n    models         = [clf_rf, clf_mult],\n    model_labels   = ['random_forest', 'multinomial_logit'],\n    ntiles = 10\n)\n\n# transform data generated with prepare_scores_and_deciles into aggregated data for chosen plotting scope \nps = obj.plotting_scope(select_model_label = ['random_forest'], select_dataset_label = ['test_data'])"
      ]
    },
    {
      "cell_type": "markdown",
      "metadata": {},
      "source": [
        "What just happened? In the modelplotpy a class is instantiated and the plotting_scope function specifies\nthe scope of the plots you want to show. In general, there are 3 methods (functions) that can be applied to\nthe modelplotpy class but you don't have to specify them since they are chained to each other.\n\nThese functions are:\n\n- ``prepare_scores_and_deciles``: scores the customers in the train dataset\n  and test dataset with their probability to acquire a term deposit\n- ``aggregate_over_deciles``: aggregates all scores to deciles and calculates the information to show\n- ``plotting_scope``: allows you to specify the scope of the analysis.\n\nIn the second line of code, we specified the scope of the analysis.\nWe've not specified the \"scope\" parameter, therefore the default - no comparison - is chosen. \nAs the output notes, you can use modelplotpy to evaluate your model(s) from several perspectives:\n\n- ``Interpret just one model (the default)``\n- ``Compare the model performance across different datasets``\n- ``Compare the performance across different models``\n- ``Compare the performance across different target classes``\n\nHere, we will keep it simple and evaluate - from a business perspective - how well a selected model\nwill perform in a selected dataset for one target class. We did specify values for some parameters,\nto focus on the random forest model on the test data. The default value for the target class is\n``term deposit`` since we want to focus on customers that do take term deposits,\nthis default is perfect.\n\n"
      ]
    },
    {
      "cell_type": "markdown",
      "metadata": {},
      "source": [
        "## Let's introduce the Gains, Lift and (cumulative) Response plots.\nAlthough each plot sheds light on the business value of your model\nfrom a different angle, they all use the same data:\n\n- Predicted probability for the target class\n- Equally sized groups based on this predicted probability\n- Actual number of observed target class observations in these groups\n\n"
      ]
    },
    {
      "cell_type": "markdown",
      "metadata": {},
      "source": [
        "### 1. Cumulative gains plot\nThe cumulative gains plot - often named 'gains plot' - helps you answer the question:\n\nWhen we apply the model and select the best X deciles,\nwhat % of the actual target class observations can we expect to target?\n\n"
      ]
    },
    {
      "cell_type": "code",
      "execution_count": null,
      "metadata": {
        "collapsed": false
      },
      "outputs": [],
      "source": [
        "# plot the cumulative gains plot and annotate the plot at decile = 3\nmp.plot_cumgains(\n    ps,\n    highlight_ntile = 3,\n    save_fig = False,\n);"
      ]
    },
    {
      "cell_type": "markdown",
      "metadata": {},
      "source": [
        "### 2. Cumulative lift plot\nThe cumulative lift plot, often referred to as lift plot or index plot, helps you answer the question:\n\nWhen we apply the model and select the best X deciles,\nhow many times better is that than using no model at all?\n\n"
      ]
    },
    {
      "cell_type": "code",
      "execution_count": null,
      "metadata": {
        "collapsed": false
      },
      "outputs": [],
      "source": [
        "# plot the cumulative lift plot and annotate the plot at decile = 3\nmp.plot_cumlift(\n    ps,\n    highlight_ntile = 3,\n    save_fig = False,\n);"
      ]
    },
    {
      "cell_type": "markdown",
      "metadata": {},
      "source": [
        "### 3. Response plot\nOne of the easiest to explain evaluation plots is the response plot.\nIt simply plots the percentage of target class observations per decile.\nIt can be used to answer the following business question:\n\nWhen we apply the model and select decile X,\nwhat is the expected % of target class observations in that decile?\n\n"
      ]
    },
    {
      "cell_type": "code",
      "execution_count": null,
      "metadata": {
        "collapsed": false
      },
      "outputs": [],
      "source": [
        "# plot the response plot and annotate the plot at decile = 3\nmp.plot_response(\n    ps,\n    highlight_ntile = 3,\n    save_fig = False,\n);"
      ]
    },
    {
      "cell_type": "markdown",
      "metadata": {},
      "source": [
        "### 4. Cumulative response plot\nFinally, one of the most used plots: The cumulative response plot.\nIt answers the question burning on each business reps lips:\n\nWhen we apply the model and select up until decile X,\nwhat is the expected % of target class observations in the selection?\n\n"
      ]
    },
    {
      "cell_type": "code",
      "execution_count": null,
      "metadata": {
        "collapsed": false
      },
      "outputs": [],
      "source": [
        "# plot the cumulative response plot and annotate the plot at decile = 3\nmp.plot_cumresponse(\n    ps,\n    highlight_ntile = 3,\n    save_fig = False,\n);"
      ]
    },
    {
      "cell_type": "markdown",
      "metadata": {},
      "source": [
        "## All four plots together\nWith the function call plot_all we get all four plots on one grid.\nWe can easily save it to a file to include it in a presentation or share it with colleagues.\n\n"
      ]
    },
    {
      "cell_type": "code",
      "execution_count": null,
      "metadata": {
        "collapsed": false
      },
      "outputs": [],
      "source": [
        "# plot all four evaluation plots and save to file\nmp.plot_all(\n    ps,\n    save_fig = False,\n    # save_fig_filename = 'Selection model Term Deposits'\n);"
      ]
    },
    {
      "cell_type": "markdown",
      "metadata": {},
      "source": [
        "## Financial Implications\nTo plot the financial implications of implementing a predictive model,\nmodelplotr provides three additional plots: the Costs & revenues plot,\nthe Profit plot and the ROI plot.\n\nFor financial plots, three extra parameters need to be provided:\n\n| Parameter\t|  Type.and.Description |\n| :-: | :-: |\n| fixed_costs\t| Numeric. Specifying the fixed costs related to a selection based on the model. These costs are constant and do not vary with selection size (ntiles). |\n| variable_costs_per_unit\t| Numeric. Specifying the variable costs per selected unit for a selection based on the model. These costs vary with selection size (ntiles). |\n| profit_per_unit\t| Numeric. Specifying the profit per unit in case the selected unit converts / responds positively. |\n\n"
      ]
    },
    {
      "cell_type": "markdown",
      "metadata": {},
      "source": [
        "### 1. Return on investment plot\nThe Return on Investment plot plots the cumulative revenues as a percentage of investments up\nuntil that decile when the model is used for campaign selection.\nIt can be used to answer the following business question:\n\nWhen we apply the model and select up until decile X,\nwhat is the expected % return on investment of the campaign?\n\n"
      ]
    },
    {
      "cell_type": "code",
      "execution_count": null,
      "metadata": {
        "collapsed": false
      },
      "outputs": [],
      "source": [
        "# Return on Investment (ROI) plot\nmp.plot_roi(\n    ps,\n    fixed_costs = 1000,\n    variable_costs_per_unit = 10,\n    profit_per_unit = 50,\n    highlight_ntile = 3,\n    save_fig = False,\n)"
      ]
    },
    {
      "cell_type": "markdown",
      "metadata": {},
      "source": [
        "### 2. Costs & Revenues plot\nThe costs & revenues plot plots both the cumulative revenues and the cumulative costs\n(investments) up until that decile when the model is used for campaign selection.\nIt can be used to answer the following business question:\n\nWhen we apply the model and select up until decile X,\nwhat are the expected revenues and investments of the campaign?\n\n"
      ]
    },
    {
      "cell_type": "code",
      "execution_count": null,
      "metadata": {
        "collapsed": false
      },
      "outputs": [],
      "source": [
        "# Costs & Revenues plot, highlighted at max roi instead of max profit\nmp.plot_costsrevs(\n    ps,\n    fixed_costs = 1000,\n    variable_costs_per_unit = 10,\n    profit_per_unit = 50,\n    highlight_ntile = 3,\n    # highlight_ntile = \"max_roi\",\n    save_fig = False,\n)"
      ]
    },
    {
      "cell_type": "markdown",
      "metadata": {},
      "source": [
        "### 3. Profit plot\nThe profit plot visualized the cumulative profit up until that decile\nwhen the model is used for campaign selection.\nIt can be used to answer the following business question:\n\nWhen we apply the model and select up until decile X,\nwhat is the expected profit of the campaign?\n\n"
      ]
    },
    {
      "cell_type": "code",
      "execution_count": null,
      "metadata": {
        "collapsed": false
      },
      "outputs": [],
      "source": [
        "# Profit plot , highlighted at custom ntile instead of at max profit\nmp.plot_profit(\n    ps,\n    fixed_costs = 1000,\n    variable_costs_per_unit = 10,\n    profit_per_unit = 50,\n    highlight_ntile = 3,\n    save_fig = False,\n)"
      ]
    },
    {
      "cell_type": "markdown",
      "metadata": {},
      "source": [
        "## Get more out of modelplotpy: using different scopes\nAs we mentioned discussed earlier, the modelplotpy also enables to make interesting comparisons,\nusing the scope parameter. Comparisons between different models, between different datasets\nand (in case of a multiclass target) between different target classes. Curious?\nPlease have a look at the package documentation or read our other posts on modelplot.\n\n"
      ]
    },
    {
      "cell_type": "markdown",
      "metadata": {},
      "source": [
        "### 1. compare_models\nHowever, to give one example, we could compare whether random forest\nwas indeed the best choice to select the top-30% customers for a term deposit offer:\n\n"
      ]
    },
    {
      "cell_type": "code",
      "execution_count": null,
      "metadata": {
        "collapsed": false
      },
      "outputs": [],
      "source": [
        "ps2 = obj.plotting_scope(\n    scope                = \"compare_models\",\n    select_dataset_label = ['test_data'],\n)\n\n# plot the cumulative response plot and annotate the plot at decile = 3\nmp.plot_cumresponse(\n    ps2,\n    highlight_ntile = 3,\n    save_fig = False,\n);"
      ]
    },
    {
      "cell_type": "markdown",
      "metadata": {},
      "source": [
        "Seems like the algorithm used will not make a big difference in this case.\nHopefully you agree by now that using these plots really can make a difference in explaining\nthe business value of your predictive models!\n\nIn case you experience issues when using modelplotpy, please let us know\nvia the [issues section on Github](https://github.com/pbmarcus/modelplotpy/issues).\nAny other feedback or suggestions, please let us know\nvia [pb.marcus](pb.marcus@hotmail.com)\nor [jurriaan.nagelkerke](jurriaan.nagelkerke@gmail.com).\n\nHappy modelplotting!\n"
      ]
    }
  ],
  "metadata": {
    "kernelspec": {
      "display_name": "Python 3",
      "language": "python",
      "name": "python3"
    },
    "language_info": {
      "codemirror_mode": {
        "name": "ipython",
        "version": 3
      },
      "file_extension": ".py",
      "mimetype": "text/x-python",
      "name": "python",
      "nbconvert_exporter": "python",
      "pygments_lexer": "ipython3",
      "version": "3.11.6"
    }
  },
  "nbformat": 4,
  "nbformat_minor": 0
}