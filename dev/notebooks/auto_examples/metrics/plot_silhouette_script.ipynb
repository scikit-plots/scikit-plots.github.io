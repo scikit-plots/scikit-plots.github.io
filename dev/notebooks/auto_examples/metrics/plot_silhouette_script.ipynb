{
  "cells": [
    {
      "cell_type": "markdown",
      "metadata": {},
      "source": [
        "\n# plot_silhouette with examples\n\nAn example showing the plot_silhouette method\nused by a scikit-learn clusterer\n"
      ]
    },
    {
      "cell_type": "code",
      "execution_count": null,
      "metadata": {
        "collapsed": false
      },
      "outputs": [],
      "source": [
        "# Authors: scikit-plots developers\n# License: MIT\n\nfrom sklearn.datasets import (\n    make_classification,\n    load_breast_cancer as data_2_classes,\n    load_iris as data_3_classes,\n    load_digits as data_10_classes,\n)\nfrom sklearn.model_selection import train_test_split\nfrom sklearn.cluster import KMeans\nfrom sklearn.model_selection import cross_val_predict\nimport numpy as np; np.random.seed(0)\n# importing pylab or pyplot\nimport matplotlib.pyplot as plt\n\n# Import scikit-plot\nimport scikitplot as skplt\n\n# Load the data\nX, y = data_3_classes(return_X_y=True, as_frame=False)\nX_train, X_val, y_train, y_val = train_test_split(X, y, test_size=0.5, random_state=0)\n\n# Create an instance of the LogisticRegression\nmodel = KMeans(n_clusters=4, random_state=0)\n\ncluster_labels = model.fit_predict(X_train)\n\n# Plot!\nax = skplt.metrics.plot_silhouette(\n    X_train, cluster_labels\n);\n# Adjust layout to make sure everything fits\nplt.tight_layout()\n# Save the plot to a file\nplt.savefig('plot_silhouette_script.png')\n# Display the plot\nplt.show(block=True)"
      ]
    }
  ],
  "metadata": {
    "kernelspec": {
      "display_name": "Python 3",
      "language": "python",
      "name": "python3"
    },
    "language_info": {
      "codemirror_mode": {
        "name": "ipython",
        "version": 3
      },
      "file_extension": ".py",
      "mimetype": "text/x-python",
      "name": "python",
      "nbconvert_exporter": "python",
      "pygments_lexer": "ipython3",
      "version": "3.11.6"
    }
  },
  "nbformat": 4,
  "nbformat_minor": 0
}